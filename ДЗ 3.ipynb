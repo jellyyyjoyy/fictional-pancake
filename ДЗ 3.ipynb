{
 "cells": [
  {
   "cell_type": "code",
   "execution_count": 13,
   "metadata": {},
   "outputs": [
    {
     "name": "stdout",
     "output_type": "stream",
     "text": [
      "t\n"
     ]
    }
   ],
   "source": [
    "# Вводим слово\n",
    "word = 'testing'  # проверяем test и testing\n",
    "\n",
    "# Определяем длину слова\n",
    "length = len(word)\n",
    "\n",
    "# Проверяем чётность длины\n",
    "if length % 2 == 0:  # Если длина чётная\n",
    "    # Две средних буквы\n",
    "    middle1 = word[length // 2 - 1]\n",
    "    middle2 = word[length // 2]\n",
    "    print(middle1 + middle2)\n",
    "else:  # Если длина нечётная\n",
    "    # Одна средняя буква\n",
    "    middle = word[length // 2]\n",
    "    print(middle)\n",
    "    \n"
   ]
  },
  {
   "cell_type": "code",
   "execution_count": 11,
   "metadata": {},
   "outputs": [
    {
     "name": "stdout",
     "output_type": "stream",
     "text": [
      "Идеальные пары:\n",
      "Alex и Emma\n",
      "Arthur и Kate\n",
      "John и Kira\n",
      "Peter и Liza\n",
      "Richard и Trisha\n"
     ]
    }
   ],
   "source": [
    "# Вводим списки юношей и девушек\n",
    "boys = ['Peter', 'Alex', 'John', 'Arthur', 'Richard'] \n",
    "girls = ['Kate', 'Liza', 'Kira', 'Emma', 'Trisha']  \n",
    "\n",
    "# Проверяем, чтобы количество юношей и девушек совпадало\n",
    "if len(boys) != len(girls):\n",
    "    print(\"Внимание, кто-то может остаться без пары!\")\n",
    "else:\n",
    "    # Сортируем списки по алфавиту\n",
    "    boys_sorted = sorted(boys)\n",
    "    girls_sorted = sorted(girls)\n",
    "    \n",
    "    print(\"Идеальные пары:\")\n",
    "    # Создаем пары, выводим их на экран\n",
    "    for boy, girl in zip(boys_sorted, girls_sorted):\n",
    "        print(f\"{boy} и {girl}\")\n"
   ]
  }
 ],
 "metadata": {
  "kernelspec": {
   "display_name": "Python 3",
   "language": "python",
   "name": "python3"
  },
  "language_info": {
   "codemirror_mode": {
    "name": "ipython",
    "version": 3
   },
   "file_extension": ".py",
   "mimetype": "text/x-python",
   "name": "python",
   "nbconvert_exporter": "python",
   "pygments_lexer": "ipython3",
   "version": "3.11.9"
  }
 },
 "nbformat": 4,
 "nbformat_minor": 2
}

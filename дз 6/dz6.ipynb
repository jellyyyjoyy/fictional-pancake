{
 "cells": [
  {
   "cell_type": "code",
   "execution_count": 2,
   "metadata": {},
   "outputs": [
    {
     "name": "stdout",
     "output_type": "stream",
     "text": [
      "     age         age_category\n",
      "0   29.0            Старше 25\n",
      "1   48.0            Старше 25\n",
      "2   48.0            Старше 25\n",
      "3   30.0            Старше 25\n",
      "4   25.0  Младше или равен 25\n",
      "5   48.0            Старше 25\n",
      "6   63.0            Старше 25\n",
      "7   39.0            Старше 25\n",
      "8   53.0            Старше 25\n",
      "9   71.0            Старше 25\n",
      "10  47.0            Старше 25\n",
      "11  48.0            Старше 25\n",
      "12  24.0  Младше или равен 25\n",
      "13  26.0            Старше 25\n",
      "14  80.0            Старше 25\n"
     ]
    }
   ],
   "source": [
    "import pandas as pd\n",
    "\n",
    "# Загрузка данных из CSV-файла\n",
    "file_name = \"web_clients_correct_доп_материал_к_тема_6__7__итоговое_задание.csv\"\n",
    "data = pd.read_csv(file_name)\n",
    "\n",
    "# Функция для определения категории возраста\n",
    "def age_category(age):\n",
    "    if age > 25:\n",
    "        return \"Старше 25\"\n",
    "    else:\n",
    "        return \"Младше или равен 25\"\n",
    "\n",
    "# Применение функции к столбцу 'age'\n",
    "data['age_category'] = data['age'].apply(age_category)\n",
    "\n",
    "# Вывод результатов\n",
    "print(data[['age', 'age_category']].head(15))\n"
   ]
  },
  {
   "cell_type": "code",
   "execution_count": null,
   "metadata": {},
   "outputs": [
    {
     "name": "stdout",
     "output_type": "stream",
     "text": [
      "                                             name device_type  \\\n",
      "1                  Allison  Master. Hudson Trevor      tablet   \n",
      "5                             Anderson  Mr. Harry      mobile   \n",
      "7                          Andrews  Mr. Thomas Jr      tablet   \n",
      "9                         Artagaveytia  Mr. Ramon      mobile   \n",
      "10                         Astor  Col. John Jacob     desktop   \n",
      "14           Barkworth  Mr. Algernon Henry Wilson      laptop   \n",
      "15                            Baumann  Mr. John D      tablet   \n",
      "19                           Beattie  Mr. Thomson      mobile   \n",
      "20                  Beckwith  Mr. Richard Leonard     desktop   \n",
      "30                   Blackwell  Mr. Stephen Weart      mobile   \n",
      "31                               Blank  Mr. Henry      tablet   \n",
      "34                       Borebank  Mr. John James     desktop   \n",
      "37  Bradley  Mr. George (\"George Arthur Brayton\")      mobile   \n",
      "38                        Brady  Mr. John Bertram      mobile   \n",
      "39                             Brandeis  Mr. Emil      mobile   \n",
      "\n",
      "              browser   sex   age  bill                           region  \\\n",
      "1               Opera  male  48.0   850  Montreal: PQ / Chesterville: ON   \n",
      "5             Firefox  male  48.0   371                     New York: NY   \n",
      "7   Internet Explorer  male  39.0   867                      Belfast: NI   \n",
      "9             Firefox  male  71.0   926              Montevideo: Uruguay   \n",
      "10             Chrome  male  47.0   100                     New York: NY   \n",
      "14             Chrome  male  80.0   723                    Hessle: Yorks   \n",
      "15              Opera  male  48.0   185                     New York: NY   \n",
      "19             Chrome  male  36.0   278                     Winnipeg: MN   \n",
      "20            Firefox  male  37.0   820                     New York: NY   \n",
      "30             Chrome  male  45.0   735                      Trenton: NJ   \n",
      "31  Internet Explorer  male  40.0   149                   Glen Ridge: NJ   \n",
      "34             Chrome  male  42.0  1253            London / Winnipeg: MB   \n",
      "37             Chrome  male  48.0    40                  Los Angeles: CA   \n",
      "38             Chrome  male  41.0   658                      Pomeroy: WA   \n",
      "39             Chrome  male  48.0   260                        Omaha: NE   \n",
      "\n",
      "   age_category  \n",
      "1     Старше 25  \n",
      "5     Старше 25  \n",
      "7     Старше 25  \n",
      "9     Старше 25  \n",
      "10    Старше 25  \n",
      "14    Старше 25  \n",
      "15    Старше 25  \n",
      "19    Старше 25  \n",
      "20    Старше 25  \n",
      "30    Старше 25  \n",
      "31    Старше 25  \n",
      "34    Старше 25  \n",
      "37    Старше 25  \n",
      "38    Старше 25  \n",
      "39    Старше 25  \n"
     ]
    }
   ],
   "source": [
    "# Фильтрация данных: пол 'male' и возраст больше 30\n",
    "filtered_data = data[(data['sex'] == 'male') & (data['age'] > 30)]\n",
    "\n",
    "# Вывод отфильтрованных данных\n",
    "print(filtered_data.head(15))\n"
   ]
  },
  {
   "cell_type": "code",
   "execution_count": 6,
   "metadata": {},
   "outputs": [
    {
     "name": "stdout",
     "output_type": "stream",
     "text": [
      "Названия столбцов в файле:\n",
      "Index(['name', 'device_type', 'browser', 'sex', 'age', 'bill', 'region'], dtype='object')\n"
     ]
    }
   ],
   "source": [
    "import pandas as pd\n",
    "\n",
    "# Путь к файлу\n",
    "filename = 'web_clients_correct_доп_материал_к_тема_6__7__итоговое_задание.csv'\n",
    "\n",
    "# Загружаем файл\n",
    "df = pd.read_csv(filename)\n",
    "\n",
    "# Выводим названия колонок\n",
    "print(\"Названия столбцов в файле:\")\n",
    "print(df.columns)\n"
   ]
  },
  {
   "cell_type": "code",
   "execution_count": 8,
   "metadata": {},
   "outputs": [
    {
     "data": {
      "image/png": "[encoded data removed]",
      "text/plain": [
       "<Figure size 640x480 with 1 Axes>"
      ]
     },
     "metadata": {},
     "output_type": "display_data"
    },
    {
     "data": {
      "application/vnd.plotly.v1+json": {
       "config": {
        "plotlyServerURL": "https://plot.ly"
       },
       "data": [
        {
         "hovertemplate": "age=%{x}<br>bill=%{y}<extra></extra>",
         "legendgroup": "",
         "marker": {
          "color": "#636efa",
          "symbol": "circle"
         },
         "mode": "markers",
         "name": "",
         "orientation": "v",
         "showlegend": false,
         "type": "scatter",
         "x": [
          29,
          48,
          48,
          30,
          25,
          48,
          63,
          39,
          53,
          71,
          47,
          48,
          24,
          26,
          80
         ],
         "xaxis": "x",
         "y": [
          885,
          850,
          1034,
          214,
          993,
          371,
          1126,
          867,
          552,
          926,
          100,
          254,
          587,
          1009,
          723
         ],
         "yaxis": "y"
        }
       ],
       "layout": {
        "legend": {
         "tracegroupgap": 0
        },
        "template": {
         "data": {
          "bar": [
           {
            "error_x": {
             "color": "#2a3f5f"
            },
            "error_y": {
             "color": "#2a3f5f"
            },
            "marker": {
             "line": {
              "color": "#E5ECF6",
              "width": 0.5
             },
             "pattern": {
              "fillmode": "overlay",
              "size": 10,
              "solidity": 0.2
             }
            },
            "type": "bar"
           }
          ],
          "barpolar": [
           {
            "marker": {
             "line": {
              "color": "#E5ECF6",
              "width": 0.5
             },
             "pattern": {
              "fillmode": "overlay",
              "size": 10,
              "solidity": 0.2
             }
            },
            "type": "barpolar"
           }
          ],
          "carpet": [
           {
            "aaxis": {
             "endlinecolor": "#2a3f5f",
             "gridcolor": "white",
             "linecolor": "white",
             "minorgridcolor": "white",
             "startlinecolor": "#2a3f5f"
            },
            "baxis": {
             "endlinecolor": "#2a3f5f",
             "gridcolor": "white",
             "linecolor": "white",
             "minorgridcolor": "white",
             "startlinecolor": "#2a3f5f"
            },
            "type": "carpet"
           }
          ],
          "choropleth": [
           {
            "colorbar": {
             "outlinewidth": 0,
             "ticks": ""
            },
            "type": "choropleth"
           }
          ],
          "contour": [
           {
            "colorbar": {
             "outlinewidth": 0,
             "ticks": ""
            },
            "colorscale": [
             [
              0,
              "#0d0887"
             ],
             [
              0.1111111111111111,
              "#46039f"
             ],
             [
              0.2222222222222222,
              "#7201a8"
             ],
             [
              0.3333333333333333,
              "#9c179e"
             ],
             [
              0.4444444444444444,
              "#bd3786"
             ],
             [
              0.5555555555555556,
              "#d8576b"
             ],
             [
              0.6666666666666666,
              "#ed7953"
             ],
             [
              0.7777777777777778,
              "#fb9f3a"
             ],
             [
              0.8888888888888888,
              "#fdca26"
             ],
             [
              1,
              "#f0f921"
             ]
            ],
            "type": "contour"
           }
          ],
          "contourcarpet": [
           {
            "colorbar": {
             "outlinewidth": 0,
             "ticks": ""
            },
            "type": "contourcarpet"
           }
          ],
          "heatmap": [
           {
            "colorbar": {
             "outlinewidth": 0,
             "ticks": ""
            },
            "colorscale": [
             [
              0,
              "#0d0887"
             ],
             [
              0.1111111111111111,
              "#46039f"
             ],
             [
              0.2222222222222222,
              "#7201a8"
             ],
             [
              0.3333333333333333,
              "#9c179e"
             ],
             [
              0.4444444444444444,
              "#bd3786"
             ],
             [
              0.5555555555555556,
              "#d8576b"
             ],
             [
              0.6666666666666666,
              "#ed7953"
             ],
             [
              0.7777777777777778,
              "#fb9f3a"
             ],
             [
              0.8888888888888888,
              "#fdca26"
             ],
             [
              1,
              "#f0f921"
             ]
            ],
            "type": "heatmap"
           }
          ],
          "heatmapgl": [
           {
            "colorbar": {
             "outlinewidth": 0,
             "ticks": ""
            },
            "colorscale": [
             [
              0,
              "#0d0887"
             ],
             [
              0.1111111111111111,
              "#46039f"
             ],
             [
              0.2222222222222222,
              "#7201a8"
             ],
             [
              0.3333333333333333,
              "#9c179e"
             ],
             [
              0.4444444444444444,
              "#bd3786"
             ],
             [
              0.5555555555555556,
              "#d8576b"
             ],
             [
              0.6666666666666666,
              "#ed7953"
             ],
             [
              0.7777777777777778,
              "#fb9f3a"
             ],
             [
              0.8888888888888888,
              "#fdca26"
             ],
             [
              1,
              "#f0f921"
             ]
            ],
            "type": "heatmapgl"
           }
          ],
          "histogram": [
           {
            "marker": {
             "pattern": {
              "fillmode": "overlay",
              "size": 10,
              "solidity": 0.2
             }
            },
            "type": "histogram"
           }
          ],
          "histogram2d": [
           {
            "colorbar": {
             "outlinewidth": 0,
             "ticks": ""
            },
            "colorscale": [
             [
              0,
              "#0d0887"
             ],
             [
              0.1111111111111111,
              "#46039f"
             ],
             [
              0.2222222222222222,
              "#7201a8"
             ],
             [
              0.3333333333333333,
              "#9c179e"
             ],
             [
              0.4444444444444444,
              "#bd3786"
             ],
             [
              0.5555555555555556,
              "#d8576b"
             ],
             [
              0.6666666666666666,
              "#ed7953"
             ],
             [
              0.7777777777777778,
              "#fb9f3a"
             ],
             [
              0.8888888888888888,
              "#fdca26"
             ],
             [
              1,
              "#f0f921"
             ]
            ],
            "type": "histogram2d"
           }
          ],
          "histogram2dcontour": [
           {
            "colorbar": {
             "outlinewidth": 0,
             "ticks": ""
            },
            "colorscale": [
             [
              0,
              "#0d0887"
             ],
             [
              0.1111111111111111,
              "#46039f"
             ],
             [
              0.2222222222222222,
              "#7201a8"
             ],
             [
              0.3333333333333333,
              "#9c179e"
             ],
             [
              0.4444444444444444,
              "#bd3786"
             ],
             [
              0.5555555555555556,
              "#d8576b"
             ],
             [
              0.6666666666666666,
              "#ed7953"
             ],
             [
              0.7777777777777778,
              "#fb9f3a"
             ],
             [
              0.8888888888888888,
              "#fdca26"
             ],
             [
              1,
              "#f0f921"
             ]
            ],
            "type": "histogram2dcontour"
           }
          ],
          "mesh3d": [
           {
            "colorbar": {
             "outlinewidth": 0,
             "ticks": ""
            },
            "type": "mesh3d"
           }
          ],
          "parcoords": [
           {
            "line": {
             "colorbar": {
              "outlinewidth": 0,
              "ticks": ""
             }
            },
            "type": "parcoords"
           }
          ],
          "pie": [
           {
            "automargin": true,
            "type": "pie"
           }
          ],
          "scatter": [
           {
            "fillpattern": {
             "fillmode": "overlay",
             "size": 10,
             "solidity": 0.2
            },
            "type": "scatter"
           }
          ],
          "scatter3d": [
           {
            "line": {
             "colorbar": {
              "outlinewidth": 0,
              "ticks": ""
             }
            },
            "marker": {
             "colorbar": {
              "outlinewidth": 0,
              "ticks": ""
             }
            },
            "type": "scatter3d"
           }
          ],
          "scattercarpet": [
           {
            "marker": {
             "colorbar": {
              "outlinewidth": 0,
              "ticks": ""
             }
            },
            "type": "scattercarpet"
           }
          ],
          "scattergeo": [
           {
            "marker": {
             "colorbar": {
              "outlinewidth": 0,
              "ticks": ""
             }
            },
            "type": "scattergeo"
           }
          ],
          "scattergl": [
           {
            "marker": {
             "colorbar": {
              "outlinewidth": 0,
              "ticks": ""
             }
            },
            "type": "scattergl"
           }
          ],
          "scattermapbox": [
           {
            "marker": {
             "colorbar": {
              "outlinewidth": 0,
              "ticks": ""
             }
            },
            "type": "scattermapbox"
           }
          ],
          "scatterpolar": [
           {
            "marker": {
             "colorbar": {
              "outlinewidth": 0,
              "ticks": ""
             }
            },
            "type": "scatterpolar"
           }
          ],
          "scatterpolargl": [
           {
            "marker": {
             "colorbar": {
              "outlinewidth": 0,
              "ticks": ""
             }
            },
            "type": "scatterpolargl"
           }
          ],
          "scatterternary": [
           {
            "marker": {
             "colorbar": {
              "outlinewidth": 0,
              "ticks": ""
             }
            },
            "type": "scatterternary"
           }
          ],
          "surface": [
           {
            "colorbar": {
             "outlinewidth": 0,
             "ticks": ""
            },
            "colorscale": [
             [
              0,
              "#0d0887"
             ],
             [
              0.1111111111111111,
              "#46039f"
             ],
             [
              0.2222222222222222,
              "#7201a8"
             ],
             [
              0.3333333333333333,
              "#9c179e"
             ],
             [
              0.4444444444444444,
              "#bd3786"
             ],
             [
              0.5555555555555556,
              "#d8576b"
             ],
             [
              0.6666666666666666,
              "#ed7953"
             ],
             [
              0.7777777777777778,
              "#fb9f3a"
             ],
             [
              0.8888888888888888,
              "#fdca26"
             ],
             [
              1,
              "#f0f921"
             ]
            ],
            "type": "surface"
           }
          ],
          "table": [
           {
            "cells": {
             "fill": {
              "color": "#EBF0F8"
             },
             "line": {
              "color": "white"
             }
            },
            "header": {
             "fill": {
              "color": "#C8D4E3"
             },
             "line": {
              "color": "white"
             }
            },
            "type": "table"
           }
          ]
         },
         "layout": {
          "annotationdefaults": {
           "arrowcolor": "#2a3f5f",
           "arrowhead": 0,
           "arrowwidth": 1
          },
          "autotypenumbers": "strict",
          "coloraxis": {
           "colorbar": {
            "outlinewidth": 0,
            "ticks": ""
           }
          },
          "colorscale": {
           "diverging": [
            [
             0,
             "#8e0152"
            ],
            [
             0.1,
             "#c51b7d"
            ],
            [
             0.2,
             "#de77ae"
            ],
            [
             0.3,
             "#f1b6da"
            ],
            [
             0.4,
             "#fde0ef"
            ],
            [
             0.5,
             "#f7f7f7"
            ],
            [
             0.6,
             "#e6f5d0"
            ],
            [
             0.7,
             "#b8e186"
            ],
            [
             0.8,
             "#7fbc41"
            ],
            [
             0.9,
             "#4d9221"
            ],
            [
             1,
             "#276419"
            ]
           ],
           "sequential": [
            [
             0,
             "#0d0887"
            ],
            [
             0.1111111111111111,
             "#46039f"
            ],
            [
             0.2222222222222222,
             "#7201a8"
            ],
            [
             0.3333333333333333,
             "#9c179e"
            ],
            [
             0.4444444444444444,
             "#bd3786"
            ],
            [
             0.5555555555555556,
             "#d8576b"
            ],
            [
             0.6666666666666666,
             "#ed7953"
            ],
            [
             0.7777777777777778,
             "#fb9f3a"
            ],
            [
             0.8888888888888888,
             "#fdca26"
            ],
            [
             1,
             "#f0f921"
            ]
           ],
           "sequentialminus": [
            [
             0,
             "#0d0887"
            ],
            [
             0.1111111111111111,
             "#46039f"
            ],
            [
             0.2222222222222222,
             "#7201a8"
            ],
            [
             0.3333333333333333,
             "#9c179e"
            ],
            [
             0.4444444444444444,
             "#bd3786"
            ],
            [
             0.5555555555555556,
             "#d8576b"
            ],
            [
             0.6666666666666666,
             "#ed7953"
            ],
            [
             0.7777777777777778,
             "#fb9f3a"
            ],
            [
             0.8888888888888888,
             "#fdca26"
            ],
            [
             1,
             "#f0f921"
            ]
           ]
          },
          "colorway": [
           "#636efa",
           "#EF553B",
           "#00cc96",
           "#ab63fa",
           "#FFA15A",
           "#19d3f3",
           "#FF6692",
           "#B6E880",
           "#FF97FF",
           "#FECB52"
          ],
          "font": {
           "color": "#2a3f5f"
          },
          "geo": {
           "bgcolor": "white",
           "lakecolor": "white",
           "landcolor": "#E5ECF6",
           "showlakes": true,
           "showland": true,
           "subunitcolor": "white"
          },
          "hoverlabel": {
           "align": "left"
          },
          "hovermode": "closest",
          "mapbox": {
           "style": "light"
          },
          "paper_bgcolor": "white",
          "plot_bgcolor": "#E5ECF6",
          "polar": {
           "angularaxis": {
            "gridcolor": "white",
            "linecolor": "white",
            "ticks": ""
           },
           "bgcolor": "#E5ECF6",
           "radialaxis": {
            "gridcolor": "white",
            "linecolor": "white",
            "ticks": ""
           }
          },
          "scene": {
           "xaxis": {
            "backgroundcolor": "#E5ECF6",
            "gridcolor": "white",
            "gridwidth": 2,
            "linecolor": "white",
            "showbackground": true,
            "ticks": "",
            "zerolinecolor": "white"
           },
           "yaxis": {
            "backgroundcolor": "#E5ECF6",
            "gridcolor": "white",
            "gridwidth": 2,
            "linecolor": "white",
            "showbackground": true,
            "ticks": "",
            "zerolinecolor": "white"
           },
           "zaxis": {
            "backgroundcolor": "#E5ECF6",
            "gridcolor": "white",
            "gridwidth": 2,
            "linecolor": "white",
            "showbackground": true,
            "ticks": "",
            "zerolinecolor": "white"
           }
          },
          "shapedefaults": {
           "line": {
            "color": "#2a3f5f"
           }
          },
          "ternary": {
           "aaxis": {
            "gridcolor": "white",
            "linecolor": "white",
            "ticks": ""
           },
           "baxis": {
            "gridcolor": "white",
            "linecolor": "white",
            "ticks": ""
           },
           "bgcolor": "#E5ECF6",
           "caxis": {
            "gridcolor": "white",
            "linecolor": "white",
            "ticks": ""
           }
          },
          "title": {
           "x": 0.05
          },
          "xaxis": {
           "automargin": true,
           "gridcolor": "white",
           "linecolor": "white",
           "ticks": "",
           "title": {
            "standoff": 15
           },
           "zerolinecolor": "white",
           "zerolinewidth": 2
          },
          "yaxis": {
           "automargin": true,
           "gridcolor": "white",
           "linecolor": "white",
           "ticks": "",
           "title": {
            "standoff": 15
           },
           "zerolinecolor": "white",
           "zerolinewidth": 2
          }
         }
        },
        "title": {
         "text": "Диаграмма разброса: Возраст vs Расходы"
        },
        "xaxis": {
         "anchor": "y",
         "domain": [
          0,
          1
         ],
         "title": {
          "text": "age"
         }
        },
        "yaxis": {
         "anchor": "x",
         "domain": [
          0,
          1
         ],
         "title": {
          "text": "bill"
         }
        }
       }
      }
     },
     "metadata": {},
     "output_type": "display_data"
    },
    {
     "data": {
      "image/png": "[encoded data removed]",
      "text/plain": [
       "<Figure size 640x480 with 1 Axes>"
      ]
     },
     "metadata": {},
     "output_type": "display_data"
    }
   ],
   "source": [
    "import pandas as pd\n",
    "import seaborn as sns\n",
    "import plotly.express as px\n",
    "import matplotlib.pyplot as plt\n",
    "\n",
    "# Загружаем данные\n",
    "filename = 'web_clients_correct_доп_материал_к_тема_6__7__итоговое_задание.csv'\n",
    "df = pd.read_csv(filename)\n",
    "\n",
    "# Отбираем первые 15 строк\n",
    "df_limited = df.head(15)\n",
    "\n",
    "# Задание 1: Диаграмма разброса зависимости возраста клиента от расходов\n",
    "def scatterplot_age_vs_bill_seaborn(data):\n",
    "    sns.scatterplot(x='age', y='bill', data=data)\n",
    "    plt.xlabel(\"Возраст\")\n",
    "    plt.ylabel(\"Расходы\")\n",
    "    plt.title(\"Диаграмма разброса: Возраст vs Расходы\")\n",
    "    plt.show()\n",
    "\n",
    "def scatterplot_age_vs_bill_plotly(data):\n",
    "    fig = px.scatter(data, x='age', y='bill', title=\"Диаграмма разброса: Возраст vs Расходы\")\n",
    "    fig.show()\n",
    "\n",
    "# Задание 2: Линия регрессии к диаграмме рассеяния\n",
    "def regression_plot_age_vs_bill(data):\n",
    "    sns.regplot(x='age', y='bill', data=data)\n",
    "    plt.xlabel(\"Возраст\")\n",
    "    plt.ylabel(\"Расходы\")\n",
    "    plt.title(\"Линия регрессии: Возраст vs Расходы\")\n",
    "    plt.show()\n",
    "\n",
    "# Выполнение функций\n",
    "scatterplot_age_vs_bill_seaborn(df_limited)\n",
    "scatterplot_age_vs_bill_plotly(df_limited)\n",
    "regression_plot_age_vs_bill(df_limited)\n"
   ]
  },
  {
   "cell_type": "markdown",
   "metadata": {},
   "source": [
    "Визуализация со всеми значениями (Для себя)"
   ]
  },
  {
   "cell_type": "code",
   "execution_count": 7,
   "metadata": {},
   "outputs": [
    {
     "data": {
      "image/png": "[encoded data removed]",
      "text/plain": [
       "<Figure size 640x480 with 1 Axes>"
      ]
     },
     "metadata": {},
     "output_type": "display_data"
    },
    {
     "data": {
      "application/vnd.plotly.v1+json": {
       "config": {
        "plotlyServerURL": "https://plot.ly"
       },
       "data": [
        {
         "hovertemplate": "age=%{x}<br>bill=%{y}<extra></extra>",
         "legendgroup": "",
         "marker": {
          "color": "#636efa",
          "symbol": "circle"
         },
         "mode": "markers",
         "name": "",
         "orientation": "v",
         "showlegend": false,
         "type": "scatter",
         "x": [
          29,
          48,
          48,
          30,
          25,
          48,
          63,
          39,
          53,
          71,
          47,
          48,
          24,
          26,
          80,
          48,
          24,
          50,
          32,
          36,
          37,
          47,
          26,
          42,
          29,
          25,
          25,
          19,
          35,
          28,
          45,
          40,
          30,
          58,
          42,
          45,
          22,
          48,
          41,
          48,
          48,
          44,
          59,
          60,
          41,
          45,
          48,
          42,
          53,
          36,
          58,
          33,
          28,
          17,
          11,
          14,
          36,
          36,
          49,
          36,
          36,
          76,
          46,
          47,
          27,
          33,
          36,
          30,
          45,
          36,
          36,
          27,
          26,
          22,
          36,
          47,
          39,
          37,
          64,
          55,
          36,
          70,
          36,
          64,
          39,
          38,
          51,
          27,
          33,
          31,
          27,
          31,
          17,
          53,
          36,
          54,
          50,
          27,
          48,
          48,
          49,
          39,
          23,
          38,
          54,
          36,
          36,
          36,
          36,
          36,
          30,
          24,
          28,
          23,
          19,
          64,
          60,
          30,
          36,
          50,
          43,
          53,
          22,
          60,
          48,
          53,
          37,
          35,
          47,
          35,
          22,
          45,
          24,
          49,
          53,
          71,
          53,
          19,
          38,
          58,
          23,
          45,
          46,
          25,
          25,
          48,
          49,
          53,
          45,
          35,
          40,
          27,
          53,
          24,
          55,
          52,
          42,
          53,
          55,
          16,
          44,
          51,
          42,
          35,
          35,
          38,
          53,
          35,
          38,
          50,
          49,
          46,
          50,
          53,
          58,
          41,
          53,
          42,
          45,
          53,
          39,
          49,
          30,
          35,
          53,
          42,
          55,
          53,
          51,
          29,
          53,
          30,
          58,
          53,
          30,
          53,
          53,
          53,
          53,
          24,
          46,
          54,
          36,
          28,
          53,
          65,
          44,
          33,
          37,
          30,
          55,
          47,
          37,
          31,
          23,
          58,
          53,
          64,
          39,
          53,
          53,
          65,
          53,
          53,
          53,
          23,
          29,
          22,
          53,
          53,
          30,
          52,
          47,
          56,
          38,
          53,
          22,
          53,
          43,
          31,
          45,
          53,
          33,
          46,
          36,
          33,
          55,
          54,
          33,
          53,
          53,
          21,
          61,
          48,
          53,
          24,
          53,
          35,
          30,
          34,
          40,
          35,
          50,
          39,
          56,
          28,
          56,
          56,
          53,
          53,
          53,
          24,
          23,
          53,
          45,
          40,
          57,
          53,
          32,
          62,
          54,
          43,
          52,
          53,
          62,
          67,
          63,
          61,
          48,
          53,
          52,
          39,
          48,
          53,
          49,
          53,
          39,
          53,
          31,
          40,
          61,
          47,
          35,
          64,
          60,
          60,
          54,
          21,
          55,
          31,
          57,
          45,
          50,
          27,
          50,
          21,
          51,
          21,
          53,
          31,
          53,
          62,
          36,
          30,
          28,
          30,
          53,
          25,
          34,
          36,
          57,
          53,
          23,
          36,
          28,
          51,
          32,
          53,
          28,
          53,
          53,
          53,
          53,
          34,
          53,
          23,
          26,
          42,
          27,
          24,
          53,
          60,
          40,
          20,
          25,
          36,
          25,
          42,
          42,
          53,
          26,
          22,
          35,
          53,
          53,
          44,
          54,
          52,
          37,
          29,
          25,
          45,
          29,
          28,
          29,
          28,
          24,
          53,
          31,
          31,
          22,
          30,
          53,
          21,
          53,
          53,
          32,
          48,
          28,
          32,
          32,
          29,
          24,
          25,
          32,
          32,
          34,
          54,
          32,
          42,
          34,
          27,
          30,
          23,
          21,
          32,
          40,
          29,
          32,
          36,
          32,
          38,
          35,
          38,
          34,
          34,
          16,
          26,
          47,
          21,
          21,
          24,
          24,
          34,
          30,
          52,
          30,
          0.67,
          24,
          44,
          6,
          28,
          62,
          30,
          7,
          43,
          45,
          24,
          24,
          49,
          48,
          55,
          24,
          32,
          21,
          18,
          20,
          23,
          36,
          54,
          50,
          44,
          29,
          21,
          42,
          63,
          60,
          33,
          32,
          42,
          24,
          47,
          24,
          22,
          32,
          23,
          34,
          24,
          22,
          32,
          35,
          45,
          57,
          32,
          31,
          26,
          30,
          32,
          32,
          32,
          25,
          22,
          32,
          32,
          34,
          36,
          24,
          61,
          50,
          42,
          57,
          32,
          32,
          31,
          24,
          32,
          30,
          40,
          32,
          30,
          46,
          32,
          41,
          19,
          39,
          48,
          70,
          27,
          54,
          39,
          16,
          62,
          32,
          14,
          32,
          32,
          32,
          26,
          19,
          28,
          20,
          29,
          39,
          22,
          32,
          23,
          29,
          28,
          32,
          50,
          32,
          32,
          41,
          21,
          32,
          43,
          32,
          34,
          30,
          27,
          32,
          32,
          33,
          36,
          34,
          30,
          28,
          32,
          32,
          32,
          24,
          50,
          19,
          21,
          26,
          25,
          27,
          25,
          18,
          20,
          30,
          59,
          30,
          35,
          40,
          25,
          41,
          25,
          32,
          32,
          50,
          23,
          28,
          27,
          29,
          27,
          40,
          31,
          30,
          23,
          31,
          32,
          32,
          40,
          32,
          27,
          29,
          32,
          32,
          29,
          32,
          32,
          36,
          33,
          66,
          32,
          31,
          32,
          26,
          24,
          42,
          32,
          32,
          35,
          32,
          25,
          20,
          32,
          30,
          26,
          40,
          32,
          32,
          26,
          26,
          20,
          24,
          25,
          35,
          32,
          32,
          32,
          32,
          32,
          32,
          32,
          38,
          32,
          32,
          39,
          27,
          26,
          39,
          20,
          26,
          25,
          32,
          24,
          35,
          32,
          32,
          32,
          32,
          32,
          40,
          23,
          38,
          45,
          21,
          23,
          32,
          30,
          23,
          32,
          20,
          32,
          33,
          32,
          32,
          32,
          24,
          32,
          40,
          26,
          20,
          32,
          45,
          27,
          22,
          32,
          26,
          22,
          32,
          20,
          32,
          21,
          32,
          26,
          32,
          32,
          32,
          32,
          32,
          40,
          32,
          21,
          22,
          20,
          29,
          22,
          22,
          35,
          32,
          21,
          32,
          32,
          21,
          30,
          55,
          38,
          55,
          55,
          21,
          21,
          21,
          55,
          55,
          28,
          24,
          55,
          37,
          28,
          24,
          21,
          32,
          29,
          26,
          55,
          20,
          55,
          24,
          36,
          24,
          31,
          31,
          22,
          30,
          55,
          43,
          35,
          27,
          19,
          30,
          55,
          55,
          36,
          59,
          19,
          17,
          44,
          17,
          55,
          45,
          22,
          19,
          30,
          29,
          44,
          34,
          28,
          27,
          25,
          24,
          22,
          21,
          44,
          44,
          44,
          44,
          36,
          30,
          16,
          44,
          44,
          26,
          33,
          25,
          44,
          44,
          22,
          36,
          44,
          44,
          42,
          43,
          44,
          32,
          44,
          30,
          24,
          23,
          33,
          65,
          24,
          23,
          22,
          18,
          16,
          45,
          44,
          39,
          44,
          44,
          47,
          44,
          44,
          44,
          44,
          44,
          18,
          44,
          44,
          44,
          26,
          44,
          44,
          21,
          44,
          44,
          18,
          16,
          48,
          44,
          44,
          25,
          44,
          44,
          22,
          16,
          44,
          44,
          33,
          41,
          31,
          38,
          44,
          44,
          44,
          44,
          16,
          14,
          40,
          43,
          51,
          32,
          33,
          20,
          37,
          28,
          33,
          24,
          33,
          33,
          33,
          28,
          24,
          20,
          33,
          41,
          26,
          21,
          45,
          33,
          25,
          33,
          33,
          33,
          27,
          33,
          33,
          26,
          23,
          22,
          28,
          28,
          33,
          33,
          22,
          43,
          28,
          27,
          33,
          33,
          42,
          33,
          30,
          33,
          27,
          25,
          33,
          29,
          21,
          33,
          20,
          48,
          17,
          33,
          33,
          34,
          26,
          22,
          33,
          31,
          29,
          33,
          33,
          49,
          33,
          19,
          27,
          33,
          33,
          33,
          33,
          23,
          32,
          27,
          20,
          21,
          32,
          17,
          21,
          30,
          21,
          33
         ],
         "xaxis": "x",
         "y": [
          885,
          850,
          1034,
          214,
          993,
          371,
          1126,
          867,
          552,
          926,
          100,
          254,
          587,
          1009,
          723,
          185,
          427,
          950,
          1059,
          278,
          820,
          472,
          1252,
          1317,
          392,
          997,
          950,
          967,
          1025,
          201,
          735,
          149,
          371,
          784,
          1253,
          913,
          882,
          40,
          658,
          260,
          1172,
          374,
          1410,
          504,
          564,
          121,
          1007,
          220,
          329,
          449,
          500,
          1057,
          1365,
          829,
          1392,
          557,
          87,
          665,
          1034,
          1282,
          1496,
          1332,
          1330,
          1044,
          1120,
          242,
          1210,
          1424,
          305,
          496,
          60,
          1338,
          1192,
          1337,
          57,
          1074,
          366,
          1168,
          698,
          1169,
          1407,
          707,
          919,
          891,
          547,
          977,
          58,
          443,
          210,
          1330,
          392,
          793,
          234,
          443,
          1250,
          123,
          126,
          624,
          104,
          1402,
          597,
          1144,
          789,
          1377,
          60,
          1395,
          1279,
          654,
          859,
          115,
          47,
          1201,
          714,
          143,
          34,
          1281,
          572,
          1185,
          1349,
          720,
          972,
          413,
          178,
          268,
          844,
          1455,
          1189,
          1390,
          969,
          950,
          317,
          1204,
          337,
          684,
          395,
          976,
          170,
          63,
          340,
          46,
          308,
          567,
          822,
          550,
          1423,
          917,
          84,
          907,
          876,
          1254,
          486,
          1360,
          639,
          589,
          1279,
          144,
          452,
          627,
          1178,
          521,
          1425,
          405,
          1087,
          308,
          111,
          1430,
          1316,
          769,
          189,
          48,
          119,
          1244,
          285,
          716,
          701,
          900,
          730,
          1135,
          1179,
          208,
          1368,
          313,
          1370,
          1224,
          616,
          889,
          1461,
          1369,
          663,
          542,
          598,
          716,
          417,
          461,
          180,
          87,
          1160,
          1139,
          170,
          1232,
          1161,
          1113,
          523,
          161,
          815,
          501,
          946,
          734,
          64,
          704,
          1036,
          1151,
          296,
          380,
          1266,
          750,
          892,
          927,
          769,
          82,
          867,
          60,
          141,
          1079,
          1235,
          67,
          1182,
          365,
          740,
          98,
          1159,
          845,
          223,
          1415,
          354,
          1071,
          1006,
          1266,
          187,
          738,
          434,
          120,
          1166,
          181,
          709,
          1415,
          823,
          507,
          756,
          1226,
          1118,
          1301,
          605,
          310,
          1389,
          489,
          407,
          841,
          165,
          194,
          498,
          1087,
          661,
          534,
          342,
          852,
          902,
          677,
          467,
          824,
          1267,
          1402,
          534,
          591,
          786,
          312,
          664,
          778,
          203,
          1190,
          280,
          918,
          672,
          1118,
          951,
          938,
          791,
          869,
          804,
          253,
          45,
          751,
          716,
          202,
          241,
          1066,
          841,
          168,
          1278,
          1296,
          1199,
          1195,
          1017,
          1290,
          1165,
          402,
          1360,
          412,
          484,
          645,
          1346,
          816,
          688,
          459,
          929,
          388,
          404,
          1051,
          440,
          298,
          1458,
          179,
          1185,
          1430,
          343,
          316,
          1098,
          686,
          858,
          453,
          1124,
          1118,
          1473,
          529,
          381,
          775,
          394,
          561,
          1429,
          62,
          271,
          47,
          548,
          804,
          593,
          1250,
          1377,
          1025,
          530,
          321,
          1331,
          971,
          823,
          374,
          648,
          1328,
          542,
          398,
          1127,
          1201,
          620,
          1291,
          1269,
          1302,
          881,
          1386,
          1127,
          710,
          645,
          835,
          1045,
          1286,
          688,
          742,
          672,
          702,
          874,
          916,
          1277,
          898,
          854,
          633,
          515,
          524,
          783,
          831,
          1460,
          717,
          367,
          1089,
          354,
          1103,
          1101,
          587,
          809,
          1457,
          1247,
          237,
          949,
          1142,
          721,
          955,
          1464,
          267,
          1148,
          270,
          960,
          377,
          930,
          121,
          1205,
          1441,
          845,
          676,
          1362,
          625,
          1382,
          778,
          490,
          517,
          608,
          1321,
          288,
          1240,
          857,
          431,
          795,
          637,
          794,
          940,
          1485,
          1237,
          277,
          1276,
          459,
          1229,
          1272,
          1288,
          303,
          300,
          1168,
          1273,
          1230,
          1005,
          832,
          275,
          542,
          469,
          1368,
          498,
          1289,
          643,
          1432,
          481,
          530,
          281,
          731,
          165,
          33,
          155,
          718,
          275,
          177,
          1101,
          351,
          962,
          939,
          1157,
          1386,
          507,
          45,
          1300,
          439,
          1480,
          835,
          1101,
          42,
          728,
          1274,
          568,
          665,
          1369,
          173,
          581,
          50,
          1477,
          914,
          330,
          686,
          402,
          1211,
          544,
          877,
          80,
          364,
          858,
          94,
          707,
          1356,
          1396,
          1415,
          464,
          605,
          1108,
          717,
          278,
          346,
          1262,
          1127,
          730,
          1012,
          1363,
          580,
          1489,
          1415,
          346,
          1247,
          756,
          180,
          301,
          895,
          299,
          448,
          720,
          208,
          521,
          825,
          1036,
          813,
          1217,
          735,
          627,
          317,
          610,
          1019,
          1470,
          1262,
          770,
          1108,
          115,
          696,
          1230,
          463,
          721,
          1379,
          562,
          225,
          415,
          716,
          126,
          151,
          664,
          312,
          145,
          1426,
          513,
          1312,
          765,
          316,
          1324,
          705,
          632,
          67,
          496,
          1158,
          1090,
          142,
          1440,
          624,
          148,
          1241,
          875,
          334,
          52,
          873,
          591,
          1096,
          473,
          134,
          1244,
          1235,
          911,
          232,
          1028,
          261,
          870,
          480,
          364,
          906,
          575,
          1023,
          957,
          528,
          1461,
          908,
          409,
          498,
          1466,
          128,
          357,
          138,
          902,
          1185,
          584,
          202,
          1322,
          1150,
          243,
          970,
          104,
          1333,
          897,
          739,
          848,
          1084,
          479,
          443,
          1186,
          873,
          789,
          208,
          793,
          477,
          1095,
          758,
          1208,
          1360,
          1500,
          822,
          576,
          55,
          1466,
          1165,
          1227,
          220,
          995,
          1441,
          110,
          1417,
          766,
          1138,
          863,
          1228,
          1231,
          640,
          61,
          681,
          868,
          776,
          898,
          384,
          997,
          1493,
          339,
          735,
          460,
          1429,
          256,
          1258,
          1372,
          613,
          1397,
          1212,
          428,
          720,
          1158,
          683,
          920,
          1098,
          1109,
          1003,
          356,
          276,
          1285,
          665,
          835,
          1073,
          1447,
          452,
          809,
          148,
          660,
          225,
          865,
          377,
          1377,
          1063,
          851,
          1193,
          456,
          945,
          263,
          848,
          314,
          1185,
          1310,
          895,
          76,
          136,
          1410,
          875,
          176,
          592,
          1324,
          1378,
          1277,
          1291,
          1153,
          995,
          205,
          1213,
          529,
          434,
          1418,
          181,
          1087,
          396,
          977,
          300,
          1370,
          657,
          330,
          999,
          1277,
          1227,
          598,
          768,
          403,
          110,
          731,
          420,
          775,
          923,
          821,
          314,
          745,
          1133,
          1001,
          1187,
          150,
          934,
          1427,
          316,
          391,
          1389,
          597,
          835,
          820,
          1475,
          265,
          711,
          643,
          713,
          411,
          1080,
          1159,
          485,
          307,
          1293,
          779,
          375,
          385,
          1149,
          799,
          933,
          901,
          1298,
          1130,
          531,
          448,
          1253,
          615,
          415,
          1138,
          1250,
          604,
          389,
          57,
          767,
          741,
          942,
          1280,
          417,
          35,
          261,
          866,
          885,
          1429,
          971,
          975,
          739,
          405,
          1251,
          1130,
          1090,
          1262,
          1169,
          1079,
          558,
          1423,
          1113,
          686,
          1185,
          1477,
          1160,
          1262,
          860,
          261,
          711,
          999,
          1172,
          925,
          876,
          543,
          935,
          1064,
          1243,
          64,
          830,
          1132,
          979,
          1216,
          1060,
          653,
          604,
          873,
          398,
          922,
          826,
          1300,
          675,
          508,
          1066,
          458,
          1287,
          1219,
          86,
          164,
          370,
          1497,
          488,
          796,
          908,
          457,
          814,
          1337,
          269,
          1273,
          131,
          532,
          759,
          64,
          705,
          521,
          569,
          730,
          861,
          526,
          1328,
          1324,
          192,
          777,
          619,
          1425,
          909,
          1127,
          877,
          1472,
          830,
          244,
          618,
          114,
          1158,
          337,
          1326,
          942,
          106,
          1459,
          513,
          273,
          791,
          254,
          918,
          1402,
          747,
          950,
          1068,
          438,
          642,
          766,
          1471,
          1218,
          542,
          244,
          133,
          1133,
          435,
          411,
          1458,
          321,
          840,
          1450,
          762,
          119,
          1454,
          1136,
          515,
          299,
          1093,
          280,
          1273,
          1136,
          465,
          275,
          798
         ],
         "yaxis": "y"
        }
       ],
       "layout": {
        "legend": {
         "tracegroupgap": 0
        },
        "template": {
         "data": {
          "bar": [
           {
            "error_x": {
             "color": "#2a3f5f"
            },
            "error_y": {
             "color": "#2a3f5f"
            },
            "marker": {
             "line": {
              "color": "#E5ECF6",
              "width": 0.5
             },
             "pattern": {
              "fillmode": "overlay",
              "size": 10,
              "solidity": 0.2
             }
            },
            "type": "bar"
           }
          ],
          "barpolar": [
           {
            "marker": {
             "line": {
              "color": "#E5ECF6",
              "width": 0.5
             },
             "pattern": {
              "fillmode": "overlay",
              "size": 10,
              "solidity": 0.2
             }
            },
            "type": "barpolar"
           }
          ],
          "carpet": [
           {
            "aaxis": {
             "endlinecolor": "#2a3f5f",
             "gridcolor": "white",
             "linecolor": "white",
             "minorgridcolor": "white",
             "startlinecolor": "#2a3f5f"
            },
            "baxis": {
             "endlinecolor": "#2a3f5f",
             "gridcolor": "white",
             "linecolor": "white",
             "minorgridcolor": "white",
             "startlinecolor": "#2a3f5f"
            },
            "type": "carpet"
           }
          ],
          "choropleth": [
           {
            "colorbar": {
             "outlinewidth": 0,
             "ticks": ""
            },
            "type": "choropleth"
           }
          ],
          "contour": [
           {
            "colorbar": {
             "outlinewidth": 0,
             "ticks": ""
            },
            "colorscale": [
             [
              0,
              "#0d0887"
             ],
             [
              0.1111111111111111,
              "#46039f"
             ],
             [
              0.2222222222222222,
              "#7201a8"
             ],
             [
              0.3333333333333333,
              "#9c179e"
             ],
             [
              0.4444444444444444,
              "#bd3786"
             ],
             [
              0.5555555555555556,
              "#d8576b"
             ],
             [
              0.6666666666666666,
              "#ed7953"
             ],
             [
              0.7777777777777778,
              "#fb9f3a"
             ],
             [
              0.8888888888888888,
              "#fdca26"
             ],
             [
              1,
              "#f0f921"
             ]
            ],
            "type": "contour"
           }
          ],
          "contourcarpet": [
           {
            "colorbar": {
             "outlinewidth": 0,
             "ticks": ""
            },
            "type": "contourcarpet"
           }
          ],
          "heatmap": [
           {
            "colorbar": {
             "outlinewidth": 0,
             "ticks": ""
            },
            "colorscale": [
             [
              0,
              "#0d0887"
             ],
             [
              0.1111111111111111,
              "#46039f"
             ],
             [
              0.2222222222222222,
              "#7201a8"
             ],
             [
              0.3333333333333333,
              "#9c179e"
             ],
             [
              0.4444444444444444,
              "#bd3786"
             ],
             [
              0.5555555555555556,
              "#d8576b"
             ],
             [
              0.6666666666666666,
              "#ed7953"
             ],
             [
              0.7777777777777778,
              "#fb9f3a"
             ],
             [
              0.8888888888888888,
              "#fdca26"
             ],
             [
              1,
              "#f0f921"
             ]
            ],
            "type": "heatmap"
           }
          ],
          "heatmapgl": [
           {
            "colorbar": {
             "outlinewidth": 0,
             "ticks": ""
            },
            "colorscale": [
             [
              0,
              "#0d0887"
             ],
             [
              0.1111111111111111,
              "#46039f"
             ],
             [
              0.2222222222222222,
              "#7201a8"
             ],
             [
              0.3333333333333333,
              "#9c179e"
             ],
             [
              0.4444444444444444,
              "#bd3786"
             ],
             [
              0.5555555555555556,
              "#d8576b"
             ],
             [
              0.6666666666666666,
              "#ed7953"
             ],
             [
              0.7777777777777778,
              "#fb9f3a"
             ],
             [
              0.8888888888888888,
              "#fdca26"
             ],
             [
              1,
              "#f0f921"
             ]
            ],
            "type": "heatmapgl"
           }
          ],
          "histogram": [
           {
            "marker": {
             "pattern": {
              "fillmode": "overlay",
              "size": 10,
              "solidity": 0.2
             }
            },
            "type": "histogram"
           }
          ],
          "histogram2d": [
           {
            "colorbar": {
             "outlinewidth": 0,
             "ticks": ""
            },
            "colorscale": [
             [
              0,
              "#0d0887"
             ],
             [
              0.1111111111111111,
              "#46039f"
             ],
             [
              0.2222222222222222,
              "#7201a8"
             ],
             [
              0.3333333333333333,
              "#9c179e"
             ],
             [
              0.4444444444444444,
              "#bd3786"
             ],
             [
              0.5555555555555556,
              "#d8576b"
             ],
             [
              0.6666666666666666,
              "#ed7953"
             ],
             [
              0.7777777777777778,
              "#fb9f3a"
             ],
             [
              0.8888888888888888,
              "#fdca26"
             ],
             [
              1,
              "#f0f921"
             ]
            ],
            "type": "histogram2d"
           }
          ],
          "histogram2dcontour": [
           {
            "colorbar": {
             "outlinewidth": 0,
             "ticks": ""
            },
            "colorscale": [
             [
              0,
              "#0d0887"
             ],
             [
              0.1111111111111111,
              "#46039f"
             ],
             [
              0.2222222222222222,
              "#7201a8"
             ],
             [
              0.3333333333333333,
              "#9c179e"
             ],
             [
              0.4444444444444444,
              "#bd3786"
             ],
             [
              0.5555555555555556,
              "#d8576b"
             ],
             [
              0.6666666666666666,
              "#ed7953"
             ],
             [
              0.7777777777777778,
              "#fb9f3a"
             ],
             [
              0.8888888888888888,
              "#fdca26"
             ],
             [
              1,
              "#f0f921"
             ]
            ],
            "type": "histogram2dcontour"
           }
          ],
          "mesh3d": [
           {
            "colorbar": {
             "outlinewidth": 0,
             "ticks": ""
            },
            "type": "mesh3d"
           }
          ],
          "parcoords": [
           {
            "line": {
             "colorbar": {
              "outlinewidth": 0,
              "ticks": ""
             }
            },
            "type": "parcoords"
           }
          ],
          "pie": [
           {
            "automargin": true,
            "type": "pie"
           }
          ],
          "scatter": [
           {
            "fillpattern": {
             "fillmode": "overlay",
             "size": 10,
             "solidity": 0.2
            },
            "type": "scatter"
           }
          ],
          "scatter3d": [
           {
            "line": {
             "colorbar": {
              "outlinewidth": 0,
              "ticks": ""
             }
            },
            "marker": {
             "colorbar": {
              "outlinewidth": 0,
              "ticks": ""
             }
            },
            "type": "scatter3d"
           }
          ],
          "scattercarpet": [
           {
            "marker": {
             "colorbar": {
              "outlinewidth": 0,
              "ticks": ""
             }
            },
            "type": "scattercarpet"
           }
          ],
          "scattergeo": [
           {
            "marker": {
             "colorbar": {
              "outlinewidth": 0,
              "ticks": ""
             }
            },
            "type": "scattergeo"
           }
          ],
          "scattergl": [
           {
            "marker": {
             "colorbar": {
              "outlinewidth": 0,
              "ticks": ""
             }
            },
            "type": "scattergl"
           }
          ],
          "scattermapbox": [
           {
            "marker": {
             "colorbar": {
              "outlinewidth": 0,
              "ticks": ""
             }
            },
            "type": "scattermapbox"
           }
          ],
          "scatterpolar": [
           {
            "marker": {
             "colorbar": {
              "outlinewidth": 0,
              "ticks": ""
             }
            },
            "type": "scatterpolar"
           }
          ],
          "scatterpolargl": [
           {
            "marker": {
             "colorbar": {
              "outlinewidth": 0,
              "ticks": ""
             }
            },
            "type": "scatterpolargl"
           }
          ],
          "scatterternary": [
           {
            "marker": {
             "colorbar": {
              "outlinewidth": 0,
              "ticks": ""
             }
            },
            "type": "scatterternary"
           }
          ],
          "surface": [
           {
            "colorbar": {
             "outlinewidth": 0,
             "ticks": ""
            },
            "colorscale": [
             [
              0,
              "#0d0887"
             ],
             [
              0.1111111111111111,
              "#46039f"
             ],
             [
              0.2222222222222222,
              "#7201a8"
             ],
             [
              0.3333333333333333,
              "#9c179e"
             ],
             [
              0.4444444444444444,
              "#bd3786"
             ],
             [
              0.5555555555555556,
              "#d8576b"
             ],
             [
              0.6666666666666666,
              "#ed7953"
             ],
             [
              0.7777777777777778,
              "#fb9f3a"
             ],
             [
              0.8888888888888888,
              "#fdca26"
             ],
             [
              1,
              "#f0f921"
             ]
            ],
            "type": "surface"
           }
          ],
          "table": [
           {
            "cells": {
             "fill": {
              "color": "#EBF0F8"
             },
             "line": {
              "color": "white"
             }
            },
            "header": {
             "fill": {
              "color": "#C8D4E3"
             },
             "line": {
              "color": "white"
             }
            },
            "type": "table"
           }
          ]
         },
         "layout": {
          "annotationdefaults": {
           "arrowcolor": "#2a3f5f",
           "arrowhead": 0,
           "arrowwidth": 1
          },
          "autotypenumbers": "strict",
          "coloraxis": {
           "colorbar": {
            "outlinewidth": 0,
            "ticks": ""
           }
          },
          "colorscale": {
           "diverging": [
            [
             0,
             "#8e0152"
            ],
            [
             0.1,
             "#c51b7d"
            ],
            [
             0.2,
             "#de77ae"
            ],
            [
             0.3,
             "#f1b6da"
            ],
            [
             0.4,
             "#fde0ef"
            ],
            [
             0.5,
             "#f7f7f7"
            ],
            [
             0.6,
             "#e6f5d0"
            ],
            [
             0.7,
             "#b8e186"
            ],
            [
             0.8,
             "#7fbc41"
            ],
            [
             0.9,
             "#4d9221"
            ],
            [
             1,
             "#276419"
            ]
           ],
           "sequential": [
            [
             0,
             "#0d0887"
            ],
            [
             0.1111111111111111,
             "#46039f"
            ],
            [
             0.2222222222222222,
             "#7201a8"
            ],
            [
             0.3333333333333333,
             "#9c179e"
            ],
            [
             0.4444444444444444,
             "#bd3786"
            ],
            [
             0.5555555555555556,
             "#d8576b"
            ],
            [
             0.6666666666666666,
             "#ed7953"
            ],
            [
             0.7777777777777778,
             "#fb9f3a"
            ],
            [
             0.8888888888888888,
             "#fdca26"
            ],
            [
             1,
             "#f0f921"
            ]
           ],
           "sequentialminus": [
            [
             0,
             "#0d0887"
            ],
            [
             0.1111111111111111,
             "#46039f"
            ],
            [
             0.2222222222222222,
             "#7201a8"
            ],
            [
             0.3333333333333333,
             "#9c179e"
            ],
            [
             0.4444444444444444,
             "#bd3786"
            ],
            [
             0.5555555555555556,
             "#d8576b"
            ],
            [
             0.6666666666666666,
             "#ed7953"
            ],
            [
             0.7777777777777778,
             "#fb9f3a"
            ],
            [
             0.8888888888888888,
             "#fdca26"
            ],
            [
             1,
             "#f0f921"
            ]
           ]
          },
          "colorway": [
           "#636efa",
           "#EF553B",
           "#00cc96",
           "#ab63fa",
           "#FFA15A",
           "#19d3f3",
           "#FF6692",
           "#B6E880",
           "#FF97FF",
           "#FECB52"
          ],
          "font": {
           "color": "#2a3f5f"
          },
          "geo": {
           "bgcolor": "white",
           "lakecolor": "white",
           "landcolor": "#E5ECF6",
           "showlakes": true,
           "showland": true,
           "subunitcolor": "white"
          },
          "hoverlabel": {
           "align": "left"
          },
          "hovermode": "closest",
          "mapbox": {
           "style": "light"
          },
          "paper_bgcolor": "white",
          "plot_bgcolor": "#E5ECF6",
          "polar": {
           "angularaxis": {
            "gridcolor": "white",
            "linecolor": "white",
            "ticks": ""
           },
           "bgcolor": "#E5ECF6",
           "radialaxis": {
            "gridcolor": "white",
            "linecolor": "white",
            "ticks": ""
           }
          },
          "scene": {
           "xaxis": {
            "backgroundcolor": "#E5ECF6",
            "gridcolor": "white",
            "gridwidth": 2,
            "linecolor": "white",
            "showbackground": true,
            "ticks": "",
            "zerolinecolor": "white"
           },
           "yaxis": {
            "backgroundcolor": "#E5ECF6",
            "gridcolor": "white",
            "gridwidth": 2,
            "linecolor": "white",
            "showbackground": true,
            "ticks": "",
            "zerolinecolor": "white"
           },
           "zaxis": {
            "backgroundcolor": "#E5ECF6",
            "gridcolor": "white",
            "gridwidth": 2,
            "linecolor": "white",
            "showbackground": true,
            "ticks": "",
            "zerolinecolor": "white"
           }
          },
          "shapedefaults": {
           "line": {
            "color": "#2a3f5f"
           }
          },
          "ternary": {
           "aaxis": {
            "gridcolor": "white",
            "linecolor": "white",
            "ticks": ""
           },
           "baxis": {
            "gridcolor": "white",
            "linecolor": "white",
            "ticks": ""
           },
           "bgcolor": "#E5ECF6",
           "caxis": {
            "gridcolor": "white",
            "linecolor": "white",
            "ticks": ""
           }
          },
          "title": {
           "x": 0.05
          },
          "xaxis": {
           "automargin": true,
           "gridcolor": "white",
           "linecolor": "white",
           "ticks": "",
           "title": {
            "standoff": 15
           },
           "zerolinecolor": "white",
           "zerolinewidth": 2
          },
          "yaxis": {
           "automargin": true,
           "gridcolor": "white",
           "linecolor": "white",
           "ticks": "",
           "title": {
            "standoff": 15
           },
           "zerolinecolor": "white",
           "zerolinewidth": 2
          }
         }
        },
        "title": {
         "text": "Диаграмма разброса: Возраст vs Расходы"
        },
        "xaxis": {
         "anchor": "y",
         "domain": [
          0,
          1
         ],
         "title": {
          "text": "age"
         }
        },
        "yaxis": {
         "anchor": "x",
         "domain": [
          0,
          1
         ],
         "title": {
          "text": "bill"
         }
        }
       }
      }
     },
     "metadata": {},
     "output_type": "display_data"
    },
    {
     "data": {
      "image/png": "[encoded data removed]",
      "text/plain": [
       "<Figure size 640x480 with 1 Axes>"
      ]
     },
     "metadata": {},
     "output_type": "display_data"
    }
   ],
   "source": [
    "import pandas as pd\n",
    "import seaborn as sns\n",
    "import plotly.express as px\n",
    "import matplotlib.pyplot as plt\n",
    "\n",
    "# Загружаем данные\n",
    "filename = 'web_clients_correct_доп_материал_к_тема_6__7__итоговое_задание.csv'\n",
    "df = pd.read_csv(filename)\n",
    "\n",
    "# Задание 1: Диаграмма разброса зависимости возраста клиента от расходов\n",
    "def scatterplot_age_vs_bill_seaborn(data):\n",
    "    sns.scatterplot(x='age', y='bill', data=data)\n",
    "    plt.xlabel(\"Возраст\")\n",
    "    plt.ylabel(\"Расходы\")\n",
    "    plt.title(\"Диаграмма разброса: Возраст vs Расходы\")\n",
    "    plt.show()\n",
    "\n",
    "def scatterplot_age_vs_bill_plotly(data):\n",
    "    fig = px.scatter(data, x='age', y='bill', title=\"Диаграмма разброса: Возраст vs Расходы\")\n",
    "    fig.show()\n",
    "\n",
    "# Задание 2: Линия регрессии к диаграмме рассеяния\n",
    "def regression_plot_age_vs_bill(data):\n",
    "    sns.regplot(x='age', y='bill', data=data)\n",
    "    plt.xlabel(\"Возраст\")\n",
    "    plt.ylabel(\"Расходы\")\n",
    "    plt.title(\"Линия регрессии: Возраст vs Расходы\")\n",
    "    plt.show()\n",
    "\n",
    "# Выполнение функций\n",
    "scatterplot_age_vs_bill_seaborn(df)\n",
    "scatterplot_age_vs_bill_plotly(df)\n",
    "regression_plot_age_vs_bill(df)\n"
   ]
  }
 ],
 "metadata": {
  "kernelspec": {
   "display_name": "base",
   "language": "python",
   "name": "python3"
  },
  "language_info": {
   "codemirror_mode": {
    "name": "ipython",
    "version": 3
   },
   "file_extension": ".py",
   "mimetype": "text/x-python",
   "name": "python",
   "nbconvert_exporter": "python",
   "pygments_lexer": "ipython3",
   "version": "3.12.4"
  }
 },
 "nbformat": 4,
 "nbformat_minor": 2
}

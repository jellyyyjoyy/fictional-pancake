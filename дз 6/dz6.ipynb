{
 "cells": [
  {
   "cell_type": "code",
   "execution_count": 2,
   "metadata": {},
   "outputs": [
    {
     "name": "stdout",
     "output_type": "stream",
     "text": [
      "     age         age_category\n",
      "0   29.0            Старше 25\n",
      "1   48.0            Старше 25\n",
      "2   48.0            Старше 25\n",
      "3   30.0            Старше 25\n",
      "4   25.0  Младше или равен 25\n",
      "5   48.0            Старше 25\n",
      "6   63.0            Старше 25\n",
      "7   39.0            Старше 25\n",
      "8   53.0            Старше 25\n",
      "9   71.0            Старше 25\n",
      "10  47.0            Старше 25\n",
      "11  48.0            Старше 25\n",
      "12  24.0  Младше или равен 25\n",
      "13  26.0            Старше 25\n",
      "14  80.0            Старше 25\n"
     ]
    }
   ],
   "source": [
    "import pandas as pd\n",
    "\n",
    "# Загрузка данных из CSV-файла\n",
    "file_name = \"web_clients_correct_доп_материал_к_тема_6__7__итоговое_задание.csv\"\n",
    "data = pd.read_csv(file_name)\n",
    "\n",
    "# Функция для определения категории возраста\n",
    "def age_category(age):\n",
    "    if age > 25:\n",
    "        return \"Старше 25\"\n",
    "    else:\n",
    "        return \"Младше или равен 25\"\n",
    "\n",
    "# Применение функции к столбцу 'age'\n",
    "data['age_category'] = data['age'].apply(age_category)\n",
    "\n",
    "# Вывод результатов\n",
    "print(data[['age', 'age_category']].head(15))\n"
   ]
  },
  {
   "cell_type": "code",
   "execution_count": 3,
   "metadata": {},
   "outputs": [
    {
     "name": "stdout",
     "output_type": "stream",
     "text": [
      "                                             name device_type  \\\n",
      "1                  Allison  Master. Hudson Trevor      tablet   \n",
      "5                             Anderson  Mr. Harry      mobile   \n",
      "7                          Andrews  Mr. Thomas Jr      tablet   \n",
      "9                         Artagaveytia  Mr. Ramon      mobile   \n",
      "10                         Astor  Col. John Jacob     desktop   \n",
      "14           Barkworth  Mr. Algernon Henry Wilson      laptop   \n",
      "15                            Baumann  Mr. John D      tablet   \n",
      "19                           Beattie  Mr. Thomson      mobile   \n",
      "20                  Beckwith  Mr. Richard Leonard     desktop   \n",
      "30                   Blackwell  Mr. Stephen Weart      mobile   \n",
      "31                               Blank  Mr. Henry      tablet   \n",
      "34                       Borebank  Mr. John James     desktop   \n",
      "37  Bradley  Mr. George (\"George Arthur Brayton\")      mobile   \n",
      "38                        Brady  Mr. John Bertram      mobile   \n",
      "39                             Brandeis  Mr. Emil      mobile   \n",
      "\n",
      "              browser   sex   age  bill                           region  \\\n",
      "1               Opera  male  48.0   850  Montreal: PQ / Chesterville: ON   \n",
      "5             Firefox  male  48.0   371                     New York: NY   \n",
      "7   Internet Explorer  male  39.0   867                      Belfast: NI   \n",
      "9             Firefox  male  71.0   926              Montevideo: Uruguay   \n",
      "10             Chrome  male  47.0   100                     New York: NY   \n",
      "14             Chrome  male  80.0   723                    Hessle: Yorks   \n",
      "15              Opera  male  48.0   185                     New York: NY   \n",
      "19             Chrome  male  36.0   278                     Winnipeg: MN   \n",
      "20            Firefox  male  37.0   820                     New York: NY   \n",
      "30             Chrome  male  45.0   735                      Trenton: NJ   \n",
      "31  Internet Explorer  male  40.0   149                   Glen Ridge: NJ   \n",
      "34             Chrome  male  42.0  1253            London / Winnipeg: MB   \n",
      "37             Chrome  male  48.0    40                  Los Angeles: CA   \n",
      "38             Chrome  male  41.0   658                      Pomeroy: WA   \n",
      "39             Chrome  male  48.0   260                        Omaha: NE   \n",
      "\n",
      "   age_category  \n",
      "1     Старше 25  \n",
      "5     Старше 25  \n",
      "7     Старше 25  \n",
      "9     Старше 25  \n",
      "10    Старше 25  \n",
      "14    Старше 25  \n",
      "15    Старше 25  \n",
      "19    Старше 25  \n",
      "20    Старше 25  \n",
      "30    Старше 25  \n",
      "31    Старше 25  \n",
      "34    Старше 25  \n",
      "37    Старше 25  \n",
      "38    Старше 25  \n",
      "39    Старше 25  \n"
     ]
    }
   ],
   "source": [
    "# Фильтрация данных: пол 'male' и возраст больше 30\n",
    "filtered_data = data[(data['sex'] == 'male') & (data['age'] > 30)]\n",
    "\n",
    "# Вывод отфильтрованных данных\n",
    "print(filtered_data.head(15))\n"
   ]
  }
 ],
 "metadata": {
  "kernelspec": {
   "display_name": "base",
   "language": "python",
   "name": "python3"
  },
  "language_info": {
   "codemirror_mode": {
    "name": "ipython",
    "version": 3
   },
   "file_extension": ".py",
   "mimetype": "text/x-python",
   "name": "python",
   "nbconvert_exporter": "python",
   "pygments_lexer": "ipython3",
   "version": "3.12.4"
  }
 },
 "nbformat": 4,
 "nbformat_minor": 2
}

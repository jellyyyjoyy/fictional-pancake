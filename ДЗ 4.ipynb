{
 "cells": [
  {
   "cell_type": "code",
   "execution_count": 1,
   "metadata": {},
   "outputs": [
    {
     "name": "stdout",
     "output_type": "stream",
     "text": [
      "Завершение программы.\n"
     ]
    }
   ],
   "source": [
    "def main():\n",
    "    documents = [\n",
    "        {'type': 'passport', 'number': '2207 876234', 'name': 'Василий Гупкин'},\n",
    "        {'type': 'invoice', 'number': '11-2', 'name': 'Геннадий Покемонов'},\n",
    "        {'type': 'insurance', 'number': '10006', 'name': 'Аристарх Павлов'}\n",
    "    ]\n",
    "    \n",
    "    directories = {\n",
    "        '1': ['2207 876234', '11-2'],\n",
    "        '2': ['10006'],\n",
    "        '3': []\n",
    "    }\n",
    "    \n",
    "    while True:\n",
    "        command = input(\"Введите команду (p для поиска владельца, s для поиска полки, q для выхода): \").strip().lower()\n",
    "        \n",
    "        if command == 'q':\n",
    "            print(\"Завершение программы.\")\n",
    "            break\n",
    "        else:\n",
    "            process_command(command, documents, directories)\n",
    "            \n",
    "def find_owner(document_number, documents):\n",
    "    for document in documents:\n",
    "        if document['number'] == document_number:\n",
    "            return f\"Владелец документа: {document['name']}\"\n",
    "    return \"Владелец документа: владелец не найден\"\n",
    "\n",
    "def find_shelf(document_number, directories):\n",
    "    for shelf, docs in directories.items():\n",
    "        if document_number in docs:\n",
    "            return f\"Документ хранится на полке: {shelf}\"\n",
    "    return \"Документ не найден\"\n",
    "\n",
    "def process_command(command, documents, directories):\n",
    "    if command == 'p':\n",
    "        document_number = input(\"Введите номер документа: \").strip()\n",
    "        result = find_owner(document_number, documents)\n",
    "        print(result)\n",
    "    elif command == 's':\n",
    "        document_number = input(\"Введите номер документа: \").strip()\n",
    "        result = find_shelf(document_number, directories)\n",
    "        print(result)\n",
    "    else:\n",
    "        print(\"Неизвестная команда, попробуйте снова.\")\n",
    "\n",
    "\n",
    "\n",
    "# Запуск основной функции\n",
    "main()\n"
   ]
  }
 ],
 "metadata": {
  "kernelspec": {
   "display_name": "base",
   "language": "python",
   "name": "python3"
  },
  "language_info": {
   "codemirror_mode": {
    "name": "ipython",
    "version": 3
   },
   "file_extension": ".py",
   "mimetype": "text/x-python",
   "name": "python",
   "nbconvert_exporter": "python",
   "pygments_lexer": "ipython3",
   "version": "3.12.4"
  }
 },
 "nbformat": 4,
 "nbformat_minor": 2
}

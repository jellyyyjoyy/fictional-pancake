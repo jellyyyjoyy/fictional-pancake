{
 "cells": [
  {
   "cell_type": "code",
   "execution_count": 2,
   "metadata": {},
   "outputs": [
    {
     "name": "stdout",
     "output_type": "stream",
     "text": [
      "Високосный год\n"
     ]
    }
   ],
   "source": [
    "year = 2020\n",
    "\n",
    "if (year % 4 == 0 and year % 100 != 0) or (year % 400 == 0):\n",
    "    print(\"Високосный год\")\n",
    "else:\n",
    "    print(\"Обычный год\")\n"
   ]
  },
  {
   "cell_type": "code",
   "execution_count": 8,
   "metadata": {},
   "outputs": [
    {
     "name": "stdout",
     "output_type": "stream",
     "text": [
      "Счастливый билет\n"
     ]
    }
   ],
   "source": [
    "# Вводим шестизначное число (номер билета)\n",
    "number = 123321  # Можно заменить это число на любое другое\n",
    "\n",
    "# Преобразуем число в строку, чтобы было проще работать с отдельными цифрами\n",
    "number_str = str(number)\n",
    "\n",
    "# Проверяем, что число состоит из 6 цифр\n",
    "if len(number_str) == 6:\n",
    "    # Считаем сумму первых трёх и последних трёх цифр\n",
    "    first_half_sum = int(number_str[0]) + int(number_str[1]) + int(number_str[2])\n",
    "    second_half_sum = int(number_str[3]) + int(number_str[4]) + int(number_str[5])\n",
    "    \n",
    "    # Сравниваем суммы\n",
    "    if first_half_sum == second_half_sum:\n",
    "        print(\"Счастливый билет\")\n",
    "    else:\n",
    "        print(\"Несчастливый билет\")\n",
    "else:\n",
    "    print(\"Число должно быть шестизначным\")\n"
   ]
  }
 ],
 "metadata": {
  "kernelspec": {
   "display_name": "Python 3",
   "language": "python",
   "name": "python3"
  },
  "language_info": {
   "codemirror_mode": {
    "name": "ipython",
    "version": 3
   },
   "file_extension": ".py",
   "mimetype": "text/x-python",
   "name": "python",
   "nbconvert_exporter": "python",
   "pygments_lexer": "ipython3",
   "version": "3.11.9"
  }
 },
 "nbformat": 4,
 "nbformat_minor": 2
}

{
  "nbformat": 4,
  "nbformat_minor": 0,
  "metadata": {
    "kernelspec": {
      "display_name": "Python 3",
      "language": "python",
      "name": "python3"
    },
    "language_info": {
      "codemirror_mode": {
        "name": "ipython",
        "version": 3
      },
      "file_extension": ".py",
      "mimetype": "text/x-python",
      "name": "python",
      "nbconvert_exporter": "python",
      "pygments_lexer": "ipython3",
      "version": "3.7.9"
    },
    "colab": {
      "provenance": []
    }
  },
  "cells": [
    {
      "cell_type": "markdown",
      "metadata": {
        "id": "nXOA4pGqoi7p"
      },
      "source": [
        "# Случайные события. Случайные величины\n"
      ]
    },
    {
      "cell_type": "code",
      "metadata": {
        "id": "PGZL3xvVoeTM"
      },
      "source": [
        "import numpy as np"
      ],
      "execution_count": null,
      "outputs": []
    },
    {
      "cell_type": "code",
      "metadata": {
        "id": "YJPemaJOoeTR",
        "colab": {
          "base_uri": "https://localhost:8080/"
        },
        "outputId": "97dce7d8-7822-4b20-98e8-a96d4fbced89"
      },
      "source": [
        "# генерируем дискретную величину\n",
        "np.random.randint(1, 5)"
      ],
      "execution_count": null,
      "outputs": [
        {
          "output_type": "execute_result",
          "data": {
            "text/plain": [
              "4"
            ]
          },
          "metadata": {},
          "execution_count": 4
        }
      ]
    },
    {
      "cell_type": "code",
      "metadata": {
        "id": "G6L4hJQKoeTS",
        "colab": {
          "base_uri": "https://localhost:8080/"
        },
        "outputId": "eb0c9032-0ec2-4351-d328-b6a388112ddb"
      },
      "source": [
        "np.random.randint(1, 5, 50)"
      ],
      "execution_count": null,
      "outputs": [
        {
          "output_type": "execute_result",
          "data": {
            "text/plain": [
              "array([2, 3, 2, 1, 3, 1, 1, 1, 4, 1, 4, 3, 1, 1, 2, 3, 4, 3, 1, 4, 4, 4,\n",
              "       3, 2, 4, 1, 2, 3, 3, 1, 4, 3, 1, 4, 1, 2, 2, 3, 2, 1, 4, 2, 2, 2,\n",
              "       2, 3, 4, 2, 2, 1])"
            ]
          },
          "metadata": {},
          "execution_count": 8
        }
      ]
    },
    {
      "cell_type": "code",
      "metadata": {
        "id": "2oJZcFUtoeTS",
        "colab": {
          "base_uri": "https://localhost:8080/"
        },
        "outputId": "fc80cffe-f819-4239-cf70-3597068ff4ad"
      },
      "source": [
        "# генерируем непрерывную величину\n",
        "np.random.random(100)"
      ],
      "execution_count": null,
      "outputs": [
        {
          "output_type": "execute_result",
          "data": {
            "text/plain": [
              "array([4.03259561e-04, 3.66360151e-01, 8.06271453e-01, 7.16937006e-02,\n",
              "       1.16317422e-02, 8.48810010e-01, 2.25899919e-01, 6.95679370e-01,\n",
              "       9.14298105e-01, 4.82785368e-01, 7.78055234e-01, 4.47230823e-01,\n",
              "       2.06999021e-01, 4.05608761e-01, 5.82066169e-01, 2.84719332e-01,\n",
              "       4.63935975e-01, 2.37296180e-01, 3.78123676e-02, 4.84282058e-01,\n",
              "       5.32317146e-01, 5.48796315e-01, 3.06631158e-01, 9.37365425e-01,\n",
              "       1.58655796e-01, 9.50829705e-01, 3.31280726e-01, 7.64719212e-01,\n",
              "       5.27861256e-01, 6.11831144e-01, 9.15701705e-01, 7.01211618e-01,\n",
              "       4.19135736e-01, 6.12689693e-01, 5.76816333e-01, 6.37944736e-02,\n",
              "       6.27747420e-03, 2.05945417e-01, 3.89653470e-01, 4.34309100e-01,\n",
              "       5.58070932e-01, 7.07216834e-01, 6.54733835e-01, 9.88264326e-01,\n",
              "       1.63396508e-01, 6.99904417e-01, 6.24795650e-01, 2.09813335e-01,\n",
              "       5.14638775e-01, 6.25030463e-01, 2.23288693e-02, 5.00532315e-01,\n",
              "       9.29321682e-01, 8.71325580e-02, 6.97521976e-01, 6.56236968e-01,\n",
              "       3.77057085e-01, 9.69487154e-02, 7.94367739e-01, 3.89690084e-01,\n",
              "       7.52907548e-01, 4.20297363e-02, 5.80020115e-01, 3.43303179e-01,\n",
              "       6.08227511e-01, 7.71487873e-01, 9.72562925e-01, 6.06671491e-01,\n",
              "       4.25413337e-01, 4.99936793e-01, 7.08877372e-01, 2.13528097e-01,\n",
              "       6.53570585e-01, 3.88627240e-01, 3.14524319e-01, 8.87809657e-01,\n",
              "       2.54753622e-01, 8.11737666e-01, 5.66975678e-01, 6.30766309e-01,\n",
              "       8.08801727e-01, 4.28096304e-01, 9.83717966e-01, 7.42488315e-01,\n",
              "       2.33876496e-01, 6.29656083e-01, 8.87510261e-02, 9.61328136e-01,\n",
              "       6.65893599e-01, 4.24673070e-01, 7.04026781e-01, 2.75915521e-01,\n",
              "       7.74593879e-01, 6.91731598e-01, 3.29740244e-02, 6.66030329e-01,\n",
              "       3.41378495e-01, 8.29400564e-01, 8.84635472e-01, 5.49625636e-01])"
            ]
          },
          "metadata": {},
          "execution_count": 4
        }
      ]
    },
    {
      "cell_type": "code",
      "metadata": {
        "id": "m8sHru95oeTT",
        "colab": {
          "base_uri": "https://localhost:8080/"
        },
        "outputId": "9947e84a-653f-468b-983d-e264762c9e28"
      },
      "source": [
        "np.random.uniform(1, 5, 6)"
      ],
      "execution_count": null,
      "outputs": [
        {
          "output_type": "execute_result",
          "data": {
            "text/plain": [
              "array([4.45916708, 4.70699787, 3.09975934, 2.48855315, 2.26902812,\n",
              "       1.60981715])"
            ]
          },
          "metadata": {},
          "execution_count": 3
        }
      ]
    },
    {
      "cell_type": "code",
      "metadata": {
        "id": "yIYQIh1coeTT",
        "colab": {
          "base_uri": "https://localhost:8080/"
        },
        "outputId": "3a3e4e10-0a50-4e69-9687-1d8f93ccc36a"
      },
      "source": [
        "np.random.uniform(1, 5, 100)"
      ],
      "execution_count": null,
      "outputs": [
        {
          "output_type": "execute_result",
          "data": {
            "text/plain": [
              "array([1.17380589, 4.291153  , 3.56997653, 2.01454527, 2.2649209 ,\n",
              "       1.37034497, 3.91161399, 1.48233158, 3.33861128, 1.71887037,\n",
              "       4.00006162, 4.02992135, 1.44937925, 3.15838311, 2.26302949,\n",
              "       1.73232698, 4.67364293, 2.00033278, 3.67512314, 4.82311107,\n",
              "       1.65824892, 2.80822478, 2.93541039, 3.95821875, 3.33222622,\n",
              "       4.7072023 , 4.37088248, 3.61474239, 3.12735413, 2.30491011,\n",
              "       1.80011328, 4.33362568, 3.62022744, 3.94104575, 2.80072391,\n",
              "       4.86079563, 1.47511196, 1.0882299 , 4.28092528, 2.17762626,\n",
              "       1.08206979, 2.10993562, 1.89511669, 1.15006578, 4.88330619,\n",
              "       2.94692882, 3.43507961, 3.66259381, 1.21774771, 1.36859908,\n",
              "       2.62493983, 1.61804006, 1.51249456, 3.41838737, 2.70689911,\n",
              "       4.97536905, 3.53035792, 1.89732108, 2.20216866, 1.20775299,\n",
              "       1.49641431, 3.43477195, 3.81076479, 3.69170163, 4.08678344,\n",
              "       3.09933378, 4.22414032, 3.05384223, 4.91590791, 3.6532376 ,\n",
              "       1.09925467, 2.72425715, 3.25784861, 2.67571811, 1.95894087,\n",
              "       4.53966074, 3.50548818, 1.98184648, 1.80240615, 2.61331768,\n",
              "       3.06901026, 1.24247872, 1.21937327, 4.06186122, 1.63184076,\n",
              "       3.46752305, 4.02341623, 3.15897034, 3.52390724, 1.81897367,\n",
              "       1.18723604, 3.27900177, 2.64855339, 1.45643894, 1.63374096,\n",
              "       4.03855551, 4.70984664, 2.52068109, 2.91999186, 2.35198349])"
            ]
          },
          "metadata": {},
          "execution_count": 6
        }
      ]
    },
    {
      "cell_type": "code",
      "metadata": {
        "id": "z1ulCBFjBbuz",
        "colab": {
          "base_uri": "https://localhost:8080/"
        },
        "outputId": "e921fb53-4790-4f9b-a6aa-80583c000c86"
      },
      "source": [
        "np.random.seed(42)\n",
        "np.random.randint(1, 5, 10)\n"
      ],
      "execution_count": null,
      "outputs": [
        {
          "output_type": "execute_result",
          "data": {
            "text/plain": [
              "array([3, 4, 1, 3, 3, 4, 1, 1, 3, 2])"
            ]
          },
          "metadata": {},
          "execution_count": 9
        }
      ]
    },
    {
      "cell_type": "markdown",
      "metadata": {
        "id": "HKqYmkjsoeTT"
      },
      "source": [
        "**Задача 1.** Оценить вероятность того, что на игральной кости выпадет больше 4 очков. Сравнить с теоретической вероятностью."
      ]
    },
    {
      "cell_type": "code",
      "metadata": {
        "id": "EZX-A7geoeTW",
        "colab": {
          "base_uri": "https://localhost:8080/"
        },
        "outputId": "9e5d9730-6091-469d-c0b0-bf109ad60754"
      },
      "source": [
        "trials = 100000    # Количество попыток\n",
        "successes = 0    # Количество успехов\n",
        "\n",
        "for i in range(trials):\n",
        "    random_score = np.random.randint(1, 7)    # Случайное количество очков от 1 до 6\n",
        "    if random_score > 4:\n",
        "        successes += 1\n",
        "\n",
        "p_monte_carlo = successes / trials    # Вероятность из моделирования\n",
        "p = 2 / 6                             # Теоретическая вероятность\n",
        "\n",
        "print(successes, trials, p_monte_carlo, p)"
      ],
      "execution_count": null,
      "outputs": [
        {
          "output_type": "stream",
          "name": "stdout",
          "text": [
            "33433 100000 0.33433 0.3333333333333333\n"
          ]
        }
      ]
    },
    {
      "cell_type": "markdown",
      "source": [],
      "metadata": {
        "id": "qfisTQyscxLx"
      }
    },
    {
      "cell_type": "markdown",
      "metadata": {
        "id": "gFfgFS68oeTY"
      },
      "source": [
        "**Задача 1А** (опциональная). Дан квадрат, в который вписан круг (касаясь сторон квадрата). В квадрат случайным образом попадают точки. Какова вероятность, что наугад взятая точка попадёт в круг?  \n",
        "_Подсказка:_ Удобно взять квардат со стороной, равной 2, и отсчитывать координаты точек от его центра."
      ]
    },
    {
      "cell_type": "code",
      "metadata": {
        "id": "J1w1PeKdoeTZ",
        "colab": {
          "base_uri": "https://localhost:8080/"
        },
        "outputId": "9f63f23c-fdd2-4590-bb73-4bdf3b84ef50"
      },
      "source": [
        "trials = 1000000\n",
        "successes = 0\n",
        "\n",
        "for i in range(100, 1000):\n",
        "    x = np.random.uniform(-1, 1)\n",
        "    y = np.random.uniform(-1, 1)\n",
        "\n",
        "    if x**2 + y**2 < 1:\n",
        "        successes += 1\n",
        "\n",
        "res = successes / trials\n",
        "print (res)"
      ],
      "execution_count": null,
      "outputs": [
        {
          "output_type": "stream",
          "name": "stdout",
          "text": [
            "0.785514\n"
          ]
        }
      ]
    },
    {
      "cell_type": "code",
      "metadata": {
        "id": "ku7A1BQ9oeTZ",
        "colab": {
          "base_uri": "https://localhost:8080/"
        },
        "outputId": "d550c1f7-e048-446a-c1df-9f3f5d83f7ea"
      },
      "source": [
        "res * 4"
      ],
      "execution_count": null,
      "outputs": [
        {
          "output_type": "execute_result",
          "data": {
            "text/plain": [
              "3.142056"
            ]
          },
          "metadata": {},
          "execution_count": 25
        }
      ]
    },
    {
      "cell_type": "markdown",
      "metadata": {
        "id": "yqMozu-9oeTa"
      },
      "source": [
        "**Задача 2.** Смоделировать стрельбу по мишени."
      ]
    },
    {
      "cell_type": "code",
      "metadata": {
        "id": "ZFk3cFwKoeTa",
        "colab": {
          "base_uri": "https://localhost:8080/",
          "height": 283
        },
        "outputId": "4d4d8d4d-537a-4b9d-d674-167f0e769432"
      },
      "source": [
        "import matplotlib.pyplot as plt\n",
        "\n",
        "shots = 1000    # Количество выстрелов\n",
        "std_dev = 1 # Стандартное отклонение (на сколько мы в среднем будем мазать)\n",
        "\n",
        "x = np.random.normal(0, std_dev, shots) # 0 - и среднее, и мода, и медиана\n",
        "y = np.random.normal(0, std_dev, shots)\n",
        "\n",
        "\n",
        "plt.scatter(x, y)\n",
        "# почему разброс от -3 до 3?"
      ],
      "execution_count": null,
      "outputs": [
        {
          "output_type": "execute_result",
          "data": {
            "text/plain": [
              "<matplotlib.collections.PathCollection at 0x7fd6008d3160>"
            ]
          },
          "metadata": {},
          "execution_count": 29
        },
        {
          "output_type": "display_data",
          "data": {
            "text/plain": [
              "<Figure size 432x288 with 1 Axes>"
            ],
            "image/png": "[encoded data removed]"
          },
          "metadata": {
            "needs_background": "light"
          }
        }
      ]
    },
    {
      "cell_type": "markdown",
      "metadata": {
        "id": "l_0GysxhoeTb"
      },
      "source": [
        "**Задача 3.** Графически определить распределение измеренных значений физической величины, когда измерительный прибор имеет случайную погрешность."
      ]
    },
    {
      "cell_type": "code",
      "metadata": {
        "id": "REebYTl8oeTb",
        "colab": {
          "base_uri": "https://localhost:8080/"
        },
        "outputId": "0877aaeb-0b9d-4688-d0b5-57e4266f7e43"
      },
      "source": [
        "import pandas as pd\n",
        "\n",
        "data = pd.read_csv(\"https://raw.githubusercontent.com/obulygin/netology_pyda_files/main/data.log\", sep=\" \")[\"az\"]\n",
        "data.describe()"
      ],
      "execution_count": null,
      "outputs": [
        {
          "output_type": "execute_result",
          "data": {
            "text/plain": [
              "count    1040.000000\n",
              "mean       -9.797112\n",
              "std         0.087958\n",
              "min       -10.030373\n",
              "25%        -9.866481\n",
              "50%        -9.800747\n",
              "75%        -9.727398\n",
              "max        -9.570811\n",
              "Name: az, dtype: float64"
            ]
          },
          "metadata": {},
          "execution_count": 34
        }
      ]
    },
    {
      "cell_type": "code",
      "metadata": {
        "id": "lZSTBr-poeTb"
      },
      "source": [
        "uni = np.random.uniform(min(data), max(data), 10000)\n",
        "normal = np.random.normal(np.mean(data), np.std(data, ddof=1), 10000)"
      ],
      "execution_count": null,
      "outputs": []
    },
    {
      "cell_type": "code",
      "metadata": {
        "id": "p84mWD6CoeTc",
        "colab": {
          "base_uri": "https://localhost:8080/",
          "height": 283
        },
        "outputId": "dd733018-0b0a-4a63-de6f-9f39594dbc9e"
      },
      "source": [
        "data.plot()"
      ],
      "execution_count": null,
      "outputs": [
        {
          "output_type": "execute_result",
          "data": {
            "text/plain": [
              "<AxesSubplot:>"
            ]
          },
          "metadata": {},
          "execution_count": 36
        },
        {
          "output_type": "display_data",
          "data": {
            "text/plain": [
              "<Figure size 432x288 with 1 Axes>"
            ],
            "image/png": "[encoded data removed]"
          },
          "metadata": {
            "needs_background": "light"
          }
        }
      ]
    },
    {
      "cell_type": "code",
      "metadata": {
        "id": "XkKEW5SDoeTc",
        "colab": {
          "base_uri": "https://localhost:8080/",
          "height": 764
        },
        "outputId": "d6b68012-2740-48fc-e7da-5c70b5ad371c"
      },
      "source": [
        "plt.hist(uni, bins=11)\n",
        "plt.show()\n",
        "plt.hist(normal, bins=11)\n",
        "plt.show()\n",
        "plt.hist(data, bins=11)\n",
        "plt.show()"
      ],
      "execution_count": null,
      "outputs": [
        {
          "output_type": "display_data",
          "data": {
            "text/plain": [
              "<Figure size 432x288 with 1 Axes>"
            ],
            "image/png": "[encoded data removed]"
          },
          "metadata": {
            "needs_background": "light"
          }
        },
        {
          "output_type": "display_data",
          "data": {
            "text/plain": [
              "<Figure size 432x288 with 1 Axes>"
            ],
            "image/png": "[encoded data removed]"
          },
          "metadata": {
            "needs_background": "light"
          }
        },
        {
          "output_type": "display_data",
          "data": {
            "text/plain": [
              "<Figure size 432x288 with 1 Axes>"
            ],
            "image/png": "[encoded data removed]"
          },
          "metadata": {
            "needs_background": "light"
          }
        }
      ]
    },
    {
      "cell_type": "markdown",
      "metadata": {
        "id": "M6O0YMakoeTd"
      },
      "source": [
        "**Задача 4.** Рассчитать вероятность того, что пациент заражён COVID-19, если известно, что тест дал положительный результат. Сравнить с результатом моделирования."
      ]
    },
    {
      "cell_type": "code",
      "metadata": {
        "id": "pR9cS38LoeTd",
        "colab": {
          "base_uri": "https://localhost:8080/"
        },
        "outputId": "8f18549d-01fb-498f-83b9-cf6b046b8c30"
      },
      "source": [
        "prev = 0.001    # Распространённость болезни\n",
        "sens = 0.98    # Чувствительность теста\n",
        "spec = 0.95    # Специфичность теста\n",
        "\n",
        "p = (sens * prev) / (sens * prev + (1 - spec) * (1 - prev))   # Теоретическая вероятность\n",
        "print(p)"
      ],
      "execution_count": null,
      "outputs": [
        {
          "output_type": "stream",
          "name": "stdout",
          "text": [
            "0.019242096995876676\n"
          ]
        }
      ]
    },
    {
      "cell_type": "code",
      "metadata": {
        "id": "d_YGeyIjoeTd",
        "colab": {
          "base_uri": "https://localhost:8080/"
        },
        "outputId": "d0a8431e-1c7b-43c6-911d-b572bd12beeb"
      },
      "source": [
        "population = 1000000    # Количество испытуемых\n",
        "\n",
        "true_pos = 0    # Количество больных с положительным тестом\n",
        "false_pos = 0   # Количество здоровых с положительным тестом\n",
        "\n",
        "for i in range(population):\n",
        "    # Наугад решаем, заражён ли человек\n",
        "    # для этого генерируем случайную величину от 0 до 1\n",
        "    infected = np.random.uniform() < prev\n",
        "\n",
        "    # Наугад решаем, дал ли тест положительный результат\n",
        "    positive = np.random.uniform() < sens if infected else np.random.uniform() < 1 - spec\n",
        "\n",
        "    if positive:\n",
        "        if infected:\n",
        "            true_pos += 1\n",
        "        else:\n",
        "            false_pos += 1\n",
        "\n",
        "p_monte_carlo = true_pos / (true_pos + false_pos)    # частота из моделирования\n",
        "print(p_monte_carlo)"
      ],
      "execution_count": null,
      "outputs": [
        {
          "output_type": "stream",
          "name": "stdout",
          "text": [
            "0.019856635094616867\n"
          ]
        }
      ]
    },
    {
      "cell_type": "code",
      "source": [
        "np.random.uniform()"
      ],
      "metadata": {
        "id": "VspqTLDnSKVF",
        "colab": {
          "base_uri": "https://localhost:8080/"
        },
        "outputId": "5170570d-2647-4a5d-d211-7e232523e6f6"
      },
      "execution_count": null,
      "outputs": [
        {
          "output_type": "execute_result",
          "data": {
            "text/plain": [
              "0.6011150117432088"
            ]
          },
          "metadata": {},
          "execution_count": 16
        }
      ]
    }
  ]
}